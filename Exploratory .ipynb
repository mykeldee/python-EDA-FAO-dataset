{
 "cells": [
  {
   "cell_type": "markdown",
   "id": "9d396013",
   "metadata": {},
   "source": [
    "#### Import Necessary Libraries"
   ]
  },
  {
   "cell_type": "code",
   "execution_count": 1,
   "id": "87e58f4c",
   "metadata": {},
   "outputs": [],
   "source": [
    "import pandas as pd\n",
    "import numpy as np\n",
    "from matplotlib import pyplot as plt\n",
    "import seaborn as sns\n",
    "import math"
   ]
  },
  {
   "cell_type": "code",
   "execution_count": 15,
   "id": "ba1e2981",
   "metadata": {},
   "outputs": [],
   "source": [
    "df=pd.read_csv('FoodBalanceSheets_E_Africa_NOFLAG.csv', encoding = 'latin_1')"
   ]
  },
  {
   "cell_type": "markdown",
   "id": "8b076f94",
   "metadata": {},
   "source": [
    "## Answer the following questions based on the African food production dataset provided by the FAO website already provided\n",
    "\n",
    "#### Question 11\n",
    "What is the total sum of Animal Fat produced in 2014 and 2017 respectively?"
   ]
  },
  {
   "cell_type": "code",
   "execution_count": 16,
   "id": "713fcac3",
   "metadata": {},
   "outputs": [
    {
     "data": {
      "text/html": [
       "<div>\n",
       "<style scoped>\n",
       "    .dataframe tbody tr th:only-of-type {\n",
       "        vertical-align: middle;\n",
       "    }\n",
       "\n",
       "    .dataframe tbody tr th {\n",
       "        vertical-align: top;\n",
       "    }\n",
       "\n",
       "    .dataframe thead th {\n",
       "        text-align: right;\n",
       "    }\n",
       "</style>\n",
       "<table border=\"1\" class=\"dataframe\">\n",
       "  <thead>\n",
       "    <tr style=\"text-align: right;\">\n",
       "      <th></th>\n",
       "      <th>Y2014</th>\n",
       "      <th>Y2017</th>\n",
       "    </tr>\n",
       "    <tr>\n",
       "      <th>Item</th>\n",
       "      <th></th>\n",
       "      <th></th>\n",
       "    </tr>\n",
       "  </thead>\n",
       "  <tbody>\n",
       "    <tr>\n",
       "      <th>Animal fats</th>\n",
       "      <td>209460.54</td>\n",
       "      <td>269617.53</td>\n",
       "    </tr>\n",
       "  </tbody>\n",
       "</table>\n",
       "</div>"
      ],
      "text/plain": [
       "                 Y2014      Y2017\n",
       "Item                             \n",
       "Animal fats  209460.54  269617.53"
      ]
     },
     "execution_count": 16,
     "metadata": {},
     "output_type": "execute_result"
    }
   ],
   "source": [
    "df.groupby('Item')[['Y2014', 'Y2017']].sum().filter(like='Animal fats', axis=0)"
   ]
  },
  {
   "cell_type": "markdown",
   "id": "1a879a43",
   "metadata": {},
   "source": [
    "#### Question 12\n",
    "What is the mean and standard deviation across the whole dataset for the year 2015 to 3 decimal places?"
   ]
  },
  {
   "cell_type": "code",
   "execution_count": 18,
   "id": "11209a90",
   "metadata": {},
   "outputs": [
    {
     "data": {
      "text/plain": [
       "array([ 135.236, 1603.404])"
      ]
     },
     "execution_count": 18,
     "metadata": {},
     "output_type": "execute_result"
    }
   ],
   "source": [
    "np.round((df['Y2015'].mean(), df['Y2015'].std()),3)"
   ]
  },
  {
   "cell_type": "markdown",
   "id": "fa13e4f4",
   "metadata": {},
   "source": [
    "#### Question 13\n",
    "What is the total number and percentage of missing data in 2016 to 2 decimal places?"
   ]
  },
  {
   "cell_type": "code",
   "execution_count": 20,
   "id": "d295963a",
   "metadata": {},
   "outputs": [
    {
     "data": {
      "text/plain": [
       "(1535, 2.58)"
      ]
     },
     "execution_count": 20,
     "metadata": {},
     "output_type": "execute_result"
    }
   ],
   "source": [
    "df['Y2016'].isnull().sum(), np.round(((df['Y2016'].isnull().sum() / all_data['Y2016'].count())*100),2)"
   ]
  },
  {
   "cell_type": "markdown",
   "id": "c04b5c55",
   "metadata": {},
   "source": [
    "#### Question 14\n",
    "Which year had the highest correlation with ‘Element Code’? "
   ]
  },
  {
   "cell_type": "code",
   "execution_count": 48,
   "id": "6787a79b",
   "metadata": {},
   "outputs": [
    {
     "data": {
      "text/plain": [
       "Element Code    Y2014\n",
       "dtype: object"
      ]
     },
     "execution_count": 48,
     "metadata": {},
     "output_type": "execute_result"
    }
   ],
   "source": [
    "df.corr().filter(like='Element Code', axis=0)[['Y2014','Y2015','Y2016','Y2017','Y2018']].idxmax(axis=1)"
   ]
  },
  {
   "cell_type": "markdown",
   "id": "c63bf91d",
   "metadata": {},
   "source": [
    "#### Question 15\n",
    "What year has the highest sum of Import Quantity?"
   ]
  },
  {
   "cell_type": "code",
   "execution_count": 51,
   "id": "4309192e",
   "metadata": {},
   "outputs": [
    {
     "data": {
      "text/plain": [
       "Element\n",
       "Import Quantity    Y2017\n",
       "dtype: object"
      ]
     },
     "execution_count": 51,
     "metadata": {},
     "output_type": "execute_result"
    }
   ],
   "source": [
    "df.groupby('Element').sum().filter(like='Import Quantity', axis=0)[['Y2014','Y2015','Y2016','Y2017','Y2018']].idxmax(axis=1)"
   ]
  },
  {
   "cell_type": "markdown",
   "id": "d635c47b",
   "metadata": {},
   "source": [
    "#### Question 16\n",
    "What is the total number of the sum of Production in 2014?"
   ]
  },
  {
   "cell_type": "code",
   "execution_count": 55,
   "id": "cd8d1884",
   "metadata": {},
   "outputs": [
    {
     "name": "stdout",
     "output_type": "stream",
     "text": [
      "1,931,287.75\n"
     ]
    }
   ],
   "source": [
    "for i in df.groupby('Element')['Y2014'].sum().filter(like='Production', axis=0):\n",
    "    print(f'{i:,.2f}')"
   ]
  },
  {
   "cell_type": "markdown",
   "id": "14eaaa78",
   "metadata": {},
   "source": [
    "#### Question 17\n",
    "Which of these elements had the highest sum in 2018?\n",
    "\n",
    "Hint-  Select columns ‘Y2018’ and ‘Element’, Perform a groupby operation on ‘Element’ on the selected dataframe and answer the  question."
   ]
  },
  {
   "cell_type": "code",
   "execution_count": 71,
   "id": "a72f53cb",
   "metadata": {},
   "outputs": [
    {
     "data": {
      "text/plain": [
       "Element\n",
       "Domestic supply quantity                  5256\n",
       "Fat supply quantity (g/capita/day)        4987\n",
       "Protein supply quantity (g/capita/day)    4986\n",
       "Food supply (kcal/capita/day)             4969\n",
       "Import Quantity                           4945\n",
       "Food                                      4913\n",
       "Food supply quantity (kg/capita/yr)       4877\n",
       "Residuals                                 4616\n",
       "Stock Variation                           4217\n",
       "Production                                3846\n",
       "Export Quantity                           3646\n",
       "Losses                                    2008\n",
       "Processing                                2003\n",
       "Other uses (non-food)                     1655\n",
       "Feed                                      1225\n",
       "Seed                                       758\n",
       "Tourist consumption                        555\n",
       "Total Population - Both sexes               45\n",
       "Name: Y2018, dtype: int64"
      ]
     },
     "execution_count": 71,
     "metadata": {},
     "output_type": "execute_result"
    }
   ],
   "source": [
    "df.groupby('Element')['Y2018'].count().sort_values(ascending=False)"
   ]
  },
  {
   "cell_type": "markdown",
   "id": "1d16ad50",
   "metadata": {},
   "source": [
    "#### Question 18\n",
    "Which of these elements had the 3rd lowest sum in 2018?\n",
    "\n",
    "Hint-  Select columns ‘Y2018’ and ‘Element’, Perform a groupby operation on ‘Element’ on the selected dataframe and answer the  question."
   ]
  },
  {
   "cell_type": "code",
   "execution_count": 73,
   "id": "80cd4925",
   "metadata": {},
   "outputs": [
    {
     "data": {
      "text/plain": [
       "Element\n",
       "Total Population - Both sexes               45\n",
       "Tourist consumption                        555\n",
       "Seed                                       758\n",
       "Feed                                      1225\n",
       "Other uses (non-food)                     1655\n",
       "Processing                                2003\n",
       "Losses                                    2008\n",
       "Export Quantity                           3646\n",
       "Production                                3846\n",
       "Stock Variation                           4217\n",
       "Residuals                                 4616\n",
       "Food supply quantity (kg/capita/yr)       4877\n",
       "Food                                      4913\n",
       "Import Quantity                           4945\n",
       "Food supply (kcal/capita/day)             4969\n",
       "Protein supply quantity (g/capita/day)    4986\n",
       "Fat supply quantity (g/capita/day)        4987\n",
       "Domestic supply quantity                  5256\n",
       "Name: Y2018, dtype: int64"
      ]
     },
     "execution_count": 73,
     "metadata": {},
     "output_type": "execute_result"
    }
   ],
   "source": [
    "df.groupby('Element')['Y2018'].count().sort_values()"
   ]
  },
  {
   "cell_type": "markdown",
   "id": "32242790",
   "metadata": {},
   "source": [
    "#### Question 19\n",
    "What is the total Import Quantity in Algeria in 2018?"
   ]
  },
  {
   "cell_type": "code",
   "execution_count": 92,
   "id": "942204c7",
   "metadata": {},
   "outputs": [
    {
     "data": {
      "text/html": [
       "<div>\n",
       "<style scoped>\n",
       "    .dataframe tbody tr th:only-of-type {\n",
       "        vertical-align: middle;\n",
       "    }\n",
       "\n",
       "    .dataframe tbody tr th {\n",
       "        vertical-align: top;\n",
       "    }\n",
       "\n",
       "    .dataframe thead th {\n",
       "        text-align: right;\n",
       "    }\n",
       "</style>\n",
       "<table border=\"1\" class=\"dataframe\">\n",
       "  <thead>\n",
       "    <tr style=\"text-align: right;\">\n",
       "      <th></th>\n",
       "      <th>Y2018</th>\n",
       "    </tr>\n",
       "    <tr>\n",
       "      <th>Element</th>\n",
       "      <th></th>\n",
       "    </tr>\n",
       "  </thead>\n",
       "  <tbody>\n",
       "    <tr>\n",
       "      <th>Import Quantity</th>\n",
       "      <td>36238.29</td>\n",
       "    </tr>\n",
       "  </tbody>\n",
       "</table>\n",
       "</div>"
      ],
      "text/plain": [
       "                    Y2018\n",
       "Element                  \n",
       "Import Quantity  36238.29"
      ]
     },
     "execution_count": 92,
     "metadata": {},
     "output_type": "execute_result"
    }
   ],
   "source": [
    "df[df['Area']=='Algeria'].groupby('Element')[['Element','Y2018']].sum().filter(like='Import Quantity', axis=0)"
   ]
  },
  {
   "cell_type": "markdown",
   "id": "b3c3cc6d",
   "metadata": {},
   "source": [
    "#### Question 20\n",
    "What is the total number of unique countries in the dataset?"
   ]
  },
  {
   "cell_type": "code",
   "execution_count": 80,
   "id": "10263b18",
   "metadata": {},
   "outputs": [
    {
     "data": {
      "text/plain": [
       "49"
      ]
     },
     "execution_count": 80,
     "metadata": {},
     "output_type": "execute_result"
    }
   ],
   "source": [
    "len(df['Area'].unique())"
   ]
  },
  {
   "cell_type": "code",
   "execution_count": null,
   "id": "f3e2cac5",
   "metadata": {},
   "outputs": [],
   "source": []
  }
 ],
 "metadata": {
  "kernelspec": {
   "display_name": "Python 3 (ipykernel)",
   "language": "python",
   "name": "python3"
  },
  "language_info": {
   "codemirror_mode": {
    "name": "ipython",
    "version": 3
   },
   "file_extension": ".py",
   "mimetype": "text/x-python",
   "name": "python",
   "nbconvert_exporter": "python",
   "pygments_lexer": "ipython3",
   "version": "3.9.13"
  }
 },
 "nbformat": 4,
 "nbformat_minor": 5
}
