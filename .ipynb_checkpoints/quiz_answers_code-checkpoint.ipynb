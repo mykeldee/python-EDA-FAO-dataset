{
 "cells": [
  {
   "cell_type": "markdown",
   "id": "9d396013",
   "metadata": {},
   "source": [
    "#### Import Necessary Libraries"
   ]
  },
  {
   "cell_type": "code",
   "execution_count": 4,
   "id": "87e58f4c",
   "metadata": {},
   "outputs": [],
   "source": [
    "import pandas as pd\n",
    "import numpy as np\n",
    "from matplotlib import pyplot as plt\n",
    "import seaborn as sns\n",
    "import math"
   ]
  },
  {
   "cell_type": "code",
   "execution_count": 5,
   "id": "ba1e2981",
   "metadata": {},
   "outputs": [],
   "source": [
    "df=pd.read_csv('FoodBalanceSheets_E_Africa_NOFLAG.csv', encoding = 'latin_1')"
   ]
  },
  {
   "cell_type": "markdown",
   "id": "83344125",
   "metadata": {},
   "source": [
    "## Answer the following questions based on the African food production dataset provided by the FAO website already provided"
   ]
  },
  {
   "cell_type": "markdown",
   "id": "cdd45119",
   "metadata": {},
   "source": [
    "#### Question 1\n",
    "Select columns ‘Y2017’ and ‘Area’, Perform a groupby operation on ‘Area’.  Which of these Areas had the 7th lowest sum in 2017?"
   ]
  },
  {
   "cell_type": "code",
   "execution_count": 9,
   "id": "4c0bf255",
   "metadata": {},
   "outputs": [
    {
     "data": {
      "text/html": [
       "<div>\n",
       "<style scoped>\n",
       "    .dataframe tbody tr th:only-of-type {\n",
       "        vertical-align: middle;\n",
       "    }\n",
       "\n",
       "    .dataframe tbody tr th {\n",
       "        vertical-align: top;\n",
       "    }\n",
       "\n",
       "    .dataframe thead th {\n",
       "        text-align: right;\n",
       "    }\n",
       "</style>\n",
       "<table border=\"1\" class=\"dataframe\">\n",
       "  <thead>\n",
       "    <tr style=\"text-align: right;\">\n",
       "      <th></th>\n",
       "      <th>Y2017</th>\n",
       "    </tr>\n",
       "    <tr>\n",
       "      <th>Area</th>\n",
       "      <th></th>\n",
       "    </tr>\n",
       "  </thead>\n",
       "  <tbody>\n",
       "    <tr>\n",
       "      <th>Sudan (former)</th>\n",
       "      <td>0.00</td>\n",
       "    </tr>\n",
       "    <tr>\n",
       "      <th>Ethiopia PDR</th>\n",
       "      <td>0.00</td>\n",
       "    </tr>\n",
       "    <tr>\n",
       "      <th>Comoros</th>\n",
       "      <td>59.84</td>\n",
       "    </tr>\n",
       "    <tr>\n",
       "      <th>Seychelles</th>\n",
       "      <td>442.34</td>\n",
       "    </tr>\n",
       "    <tr>\n",
       "      <th>Sao Tome and Principe</th>\n",
       "      <td>12662.63</td>\n",
       "    </tr>\n",
       "    <tr>\n",
       "      <th>Cabo Verde</th>\n",
       "      <td>14650.74</td>\n",
       "    </tr>\n",
       "    <tr>\n",
       "      <th>Guinea-Bissau</th>\n",
       "      <td>19102.77</td>\n",
       "    </tr>\n",
       "    <tr>\n",
       "      <th>Lesotho</th>\n",
       "      <td>21267.96</td>\n",
       "    </tr>\n",
       "    <tr>\n",
       "      <th>Botswana</th>\n",
       "      <td>22101.30</td>\n",
       "    </tr>\n",
       "    <tr>\n",
       "      <th>Djibouti</th>\n",
       "      <td>22729.91</td>\n",
       "    </tr>\n",
       "    <tr>\n",
       "      <th>Gambia</th>\n",
       "      <td>23154.18</td>\n",
       "    </tr>\n",
       "    <tr>\n",
       "      <th>Gabon</th>\n",
       "      <td>27979.64</td>\n",
       "    </tr>\n",
       "    <tr>\n",
       "      <th>Liberia</th>\n",
       "      <td>29342.20</td>\n",
       "    </tr>\n",
       "    <tr>\n",
       "      <th>Namibia</th>\n",
       "      <td>29874.89</td>\n",
       "    </tr>\n",
       "    <tr>\n",
       "      <th>Central African Republic</th>\n",
       "      <td>29937.00</td>\n",
       "    </tr>\n",
       "    <tr>\n",
       "      <th>Congo</th>\n",
       "      <td>41181.68</td>\n",
       "    </tr>\n",
       "    <tr>\n",
       "      <th>Togo</th>\n",
       "      <td>49841.88</td>\n",
       "    </tr>\n",
       "    <tr>\n",
       "      <th>Mauritius</th>\n",
       "      <td>51114.83</td>\n",
       "    </tr>\n",
       "    <tr>\n",
       "      <th>Eswatini</th>\n",
       "      <td>54343.33</td>\n",
       "    </tr>\n",
       "    <tr>\n",
       "      <th>Sierra Leone</th>\n",
       "      <td>55311.33</td>\n",
       "    </tr>\n",
       "    <tr>\n",
       "      <th>Chad</th>\n",
       "      <td>71594.68</td>\n",
       "    </tr>\n",
       "    <tr>\n",
       "      <th>Rwanda</th>\n",
       "      <td>73663.69</td>\n",
       "    </tr>\n",
       "    <tr>\n",
       "      <th>Zimbabwe</th>\n",
       "      <td>75919.34</td>\n",
       "    </tr>\n",
       "    <tr>\n",
       "      <th>Senegal</th>\n",
       "      <td>95681.15</td>\n",
       "    </tr>\n",
       "    <tr>\n",
       "      <th>Guinea</th>\n",
       "      <td>98138.87</td>\n",
       "    </tr>\n",
       "    <tr>\n",
       "      <th>Burkina Faso</th>\n",
       "      <td>101855.07</td>\n",
       "    </tr>\n",
       "    <tr>\n",
       "      <th>Zambia</th>\n",
       "      <td>103223.77</td>\n",
       "    </tr>\n",
       "    <tr>\n",
       "      <th>Tunisia</th>\n",
       "      <td>124167.20</td>\n",
       "    </tr>\n",
       "    <tr>\n",
       "      <th>Benin</th>\n",
       "      <td>124771.22</td>\n",
       "    </tr>\n",
       "    <tr>\n",
       "      <th>Niger</th>\n",
       "      <td>126707.58</td>\n",
       "    </tr>\n",
       "    <tr>\n",
       "      <th>Madagascar</th>\n",
       "      <td>131197.73</td>\n",
       "    </tr>\n",
       "    <tr>\n",
       "      <th>Mali</th>\n",
       "      <td>149928.33</td>\n",
       "    </tr>\n",
       "    <tr>\n",
       "      <th>Mauritania</th>\n",
       "      <td>156665.46</td>\n",
       "    </tr>\n",
       "    <tr>\n",
       "      <th>Mozambique</th>\n",
       "      <td>161407.98</td>\n",
       "    </tr>\n",
       "    <tr>\n",
       "      <th>Malawi</th>\n",
       "      <td>181098.71</td>\n",
       "    </tr>\n",
       "    <tr>\n",
       "      <th>Uganda</th>\n",
       "      <td>213950.38</td>\n",
       "    </tr>\n",
       "    <tr>\n",
       "      <th>Côte d'Ivoire</th>\n",
       "      <td>224599.01</td>\n",
       "    </tr>\n",
       "    <tr>\n",
       "      <th>Angola</th>\n",
       "      <td>229159.57</td>\n",
       "    </tr>\n",
       "    <tr>\n",
       "      <th>Cameroon</th>\n",
       "      <td>232030.43</td>\n",
       "    </tr>\n",
       "    <tr>\n",
       "      <th>Sudan</th>\n",
       "      <td>239931.92</td>\n",
       "    </tr>\n",
       "    <tr>\n",
       "      <th>Kenya</th>\n",
       "      <td>264660.66</td>\n",
       "    </tr>\n",
       "    <tr>\n",
       "      <th>United Republic of Tanzania</th>\n",
       "      <td>322616.85</td>\n",
       "    </tr>\n",
       "    <tr>\n",
       "      <th>Algeria</th>\n",
       "      <td>325644.27</td>\n",
       "    </tr>\n",
       "    <tr>\n",
       "      <th>Ghana</th>\n",
       "      <td>337599.06</td>\n",
       "    </tr>\n",
       "    <tr>\n",
       "      <th>Morocco</th>\n",
       "      <td>388495.36</td>\n",
       "    </tr>\n",
       "    <tr>\n",
       "      <th>Ethiopia</th>\n",
       "      <td>448683.76</td>\n",
       "    </tr>\n",
       "    <tr>\n",
       "      <th>South Africa</th>\n",
       "      <td>517590.54</td>\n",
       "    </tr>\n",
       "    <tr>\n",
       "      <th>Egypt</th>\n",
       "      <td>866379.92</td>\n",
       "    </tr>\n",
       "    <tr>\n",
       "      <th>Nigeria</th>\n",
       "      <td>1483268.23</td>\n",
       "    </tr>\n",
       "  </tbody>\n",
       "</table>\n",
       "</div>"
      ],
      "text/plain": [
       "                                  Y2017\n",
       "Area                                   \n",
       "Sudan (former)                     0.00\n",
       "Ethiopia PDR                       0.00\n",
       "Comoros                           59.84\n",
       "Seychelles                       442.34\n",
       "Sao Tome and Principe          12662.63\n",
       "Cabo Verde                     14650.74\n",
       "Guinea-Bissau                  19102.77\n",
       "Lesotho                        21267.96\n",
       "Botswana                       22101.30\n",
       "Djibouti                       22729.91\n",
       "Gambia                         23154.18\n",
       "Gabon                          27979.64\n",
       "Liberia                        29342.20\n",
       "Namibia                        29874.89\n",
       "Central African Republic       29937.00\n",
       "Congo                          41181.68\n",
       "Togo                           49841.88\n",
       "Mauritius                      51114.83\n",
       "Eswatini                       54343.33\n",
       "Sierra Leone                   55311.33\n",
       "Chad                           71594.68\n",
       "Rwanda                         73663.69\n",
       "Zimbabwe                       75919.34\n",
       "Senegal                        95681.15\n",
       "Guinea                         98138.87\n",
       "Burkina Faso                  101855.07\n",
       "Zambia                        103223.77\n",
       "Tunisia                       124167.20\n",
       "Benin                         124771.22\n",
       "Niger                         126707.58\n",
       "Madagascar                    131197.73\n",
       "Mali                          149928.33\n",
       "Mauritania                    156665.46\n",
       "Mozambique                    161407.98\n",
       "Malawi                        181098.71\n",
       "Uganda                        213950.38\n",
       "Côte d'Ivoire                 224599.01\n",
       "Angola                        229159.57\n",
       "Cameroon                      232030.43\n",
       "Sudan                         239931.92\n",
       "Kenya                         264660.66\n",
       "United Republic of Tanzania   322616.85\n",
       "Algeria                       325644.27\n",
       "Ghana                         337599.06\n",
       "Morocco                       388495.36\n",
       "Ethiopia                      448683.76\n",
       "South Africa                  517590.54\n",
       "Egypt                         866379.92\n",
       "Nigeria                      1483268.23"
      ]
     },
     "execution_count": 9,
     "metadata": {},
     "output_type": "execute_result"
    }
   ],
   "source": [
    "df.groupby('Area')[['Area', 'Y2017']].sum().sort_values(by='Y2017',ascending=True)"
   ]
  },
  {
   "cell_type": "markdown",
   "id": "61503218",
   "metadata": {},
   "source": [
    "#### Question 5\n",
    "Select columns ‘Y2017’ and ‘Area’, Perform a groupby operation on ‘Area’.  Which of these Areas had the highest sum in 2017?"
   ]
  },
  {
   "cell_type": "code",
   "execution_count": 11,
   "id": "360f243a",
   "metadata": {},
   "outputs": [
    {
     "data": {
      "text/html": [
       "<div>\n",
       "<style scoped>\n",
       "    .dataframe tbody tr th:only-of-type {\n",
       "        vertical-align: middle;\n",
       "    }\n",
       "\n",
       "    .dataframe tbody tr th {\n",
       "        vertical-align: top;\n",
       "    }\n",
       "\n",
       "    .dataframe thead th {\n",
       "        text-align: right;\n",
       "    }\n",
       "</style>\n",
       "<table border=\"1\" class=\"dataframe\">\n",
       "  <thead>\n",
       "    <tr style=\"text-align: right;\">\n",
       "      <th></th>\n",
       "      <th>Y2017</th>\n",
       "    </tr>\n",
       "    <tr>\n",
       "      <th>Area</th>\n",
       "      <th></th>\n",
       "    </tr>\n",
       "  </thead>\n",
       "  <tbody>\n",
       "    <tr>\n",
       "      <th>Nigeria</th>\n",
       "      <td>1483268.23</td>\n",
       "    </tr>\n",
       "  </tbody>\n",
       "</table>\n",
       "</div>"
      ],
      "text/plain": [
       "              Y2017\n",
       "Area               \n",
       "Nigeria  1483268.23"
      ]
     },
     "execution_count": 11,
     "metadata": {},
     "output_type": "execute_result"
    }
   ],
   "source": [
    "df.groupby('Area')[['Area', 'Y2017']].sum().sort_values(by='Y2017',ascending=False).head(1)"
   ]
  },
  {
   "cell_type": "markdown",
   "id": "356ab698",
   "metadata": {},
   "source": [
    "#### Question 7\n",
    "Perform a groupby operation on ‘Element’.  What year has the highest sum of Stock Variation?"
   ]
  },
  {
   "cell_type": "code",
   "execution_count": 20,
   "id": "e0edeba4",
   "metadata": {},
   "outputs": [
    {
     "data": {
      "text/plain": [
       "Element\n",
       "Stock Variation    Y2014\n",
       "dtype: object"
      ]
     },
     "execution_count": 20,
     "metadata": {},
     "output_type": "execute_result"
    }
   ],
   "source": [
    "df.groupby('Element')[['Y2014','Y2015','Y2016','Y2017','Y2018']].sum().filter(like='Stock', axis=0).idxmax(axis=1)"
   ]
  },
  {
   "cell_type": "markdown",
   "id": "1a879a43",
   "metadata": {},
   "source": [
    "#### Question 8\n",
    "What is the mean and standard deviation across the whole dataset for the year 2017 to 2 decimal places?"
   ]
  },
  {
   "cell_type": "code",
   "execution_count": 24,
   "id": "11209a90",
   "metadata": {},
   "outputs": [
    {
     "data": {
      "text/plain": [
       "array([ 140.92, 1671.86])"
      ]
     },
     "execution_count": 24,
     "metadata": {},
     "output_type": "execute_result"
    }
   ],
   "source": [
    "np.round((df['Y2017'].mean(), df['Y2017'].std()),2)"
   ]
  },
  {
   "cell_type": "code",
   "execution_count": null,
   "id": "db3a58ac",
   "metadata": {},
   "outputs": [],
   "source": []
  },
  {
   "cell_type": "markdown",
   "id": "8b076f94",
   "metadata": {},
   "source": [
    "#### Question 11\n",
    "What is the total sum of Animal Fat produced in 2014 and 2017 respectively?"
   ]
  },
  {
   "cell_type": "code",
   "execution_count": 19,
   "id": "713fcac3",
   "metadata": {},
   "outputs": [
    {
     "data": {
      "text/html": [
       "<div>\n",
       "<style scoped>\n",
       "    .dataframe tbody tr th:only-of-type {\n",
       "        vertical-align: middle;\n",
       "    }\n",
       "\n",
       "    .dataframe tbody tr th {\n",
       "        vertical-align: top;\n",
       "    }\n",
       "\n",
       "    .dataframe thead th {\n",
       "        text-align: right;\n",
       "    }\n",
       "</style>\n",
       "<table border=\"1\" class=\"dataframe\">\n",
       "  <thead>\n",
       "    <tr style=\"text-align: right;\">\n",
       "      <th></th>\n",
       "      <th>Y2014</th>\n",
       "      <th>Y2017</th>\n",
       "    </tr>\n",
       "    <tr>\n",
       "      <th>Item</th>\n",
       "      <th></th>\n",
       "      <th></th>\n",
       "    </tr>\n",
       "  </thead>\n",
       "  <tbody>\n",
       "    <tr>\n",
       "      <th>Animal fats</th>\n",
       "      <td>209460.54</td>\n",
       "      <td>269617.53</td>\n",
       "    </tr>\n",
       "  </tbody>\n",
       "</table>\n",
       "</div>"
      ],
      "text/plain": [
       "                 Y2014      Y2017\n",
       "Item                             \n",
       "Animal fats  209460.54  269617.53"
      ]
     },
     "execution_count": 19,
     "metadata": {},
     "output_type": "execute_result"
    }
   ],
   "source": [
    "df.groupby('Item')[['Y2014', 'Y2017']].sum().filter(like='Animal fats', axis=0)"
   ]
  },
  {
   "cell_type": "markdown",
   "id": "fa13e4f4",
   "metadata": {},
   "source": [
    "#### Question 13\n",
    "What is the total number and percentage of missing data in 2016 to 2 decimal places?"
   ]
  },
  {
   "cell_type": "code",
   "execution_count": 20,
   "id": "d295963a",
   "metadata": {},
   "outputs": [
    {
     "data": {
      "text/plain": [
       "(1535, 2.58)"
      ]
     },
     "execution_count": 20,
     "metadata": {},
     "output_type": "execute_result"
    }
   ],
   "source": [
    "df['Y2016'].isnull().sum(), np.round(((df['Y2016'].isnull().sum() / all_data['Y2016'].count())*100),2)"
   ]
  },
  {
   "cell_type": "markdown",
   "id": "c04b5c55",
   "metadata": {},
   "source": [
    "#### Question 14\n",
    "Which year had the highest correlation with ‘Element Code’? "
   ]
  },
  {
   "cell_type": "code",
   "execution_count": 48,
   "id": "6787a79b",
   "metadata": {},
   "outputs": [
    {
     "data": {
      "text/plain": [
       "Element Code    Y2014\n",
       "dtype: object"
      ]
     },
     "execution_count": 48,
     "metadata": {},
     "output_type": "execute_result"
    }
   ],
   "source": [
    "df.corr().filter(like='Element Code', axis=0)[['Y2014','Y2015','Y2016','Y2017','Y2018']].idxmax(axis=1)"
   ]
  },
  {
   "cell_type": "markdown",
   "id": "c63bf91d",
   "metadata": {},
   "source": [
    "#### Question 15\n",
    "What year has the highest sum of Import Quantity?"
   ]
  },
  {
   "cell_type": "code",
   "execution_count": 51,
   "id": "4309192e",
   "metadata": {},
   "outputs": [
    {
     "data": {
      "text/plain": [
       "Element\n",
       "Import Quantity    Y2017\n",
       "dtype: object"
      ]
     },
     "execution_count": 51,
     "metadata": {},
     "output_type": "execute_result"
    }
   ],
   "source": [
    "df.groupby('Element').sum().filter(like='Import Quantity', axis=0)[['Y2014','Y2015','Y2016','Y2017','Y2018']].idxmax(axis=1)"
   ]
  },
  {
   "cell_type": "markdown",
   "id": "d635c47b",
   "metadata": {},
   "source": [
    "#### Question 16\n",
    "What is the total number of the sum of Production in 2014?"
   ]
  },
  {
   "cell_type": "code",
   "execution_count": 55,
   "id": "cd8d1884",
   "metadata": {},
   "outputs": [
    {
     "name": "stdout",
     "output_type": "stream",
     "text": [
      "1,931,287.75\n"
     ]
    }
   ],
   "source": [
    "for i in df.groupby('Element')['Y2014'].sum().filter(like='Production', axis=0):\n",
    "    print(f'{i:,.2f}')"
   ]
  },
  {
   "cell_type": "markdown",
   "id": "14eaaa78",
   "metadata": {},
   "source": [
    "#### Question 17\n",
    "Which of these elements had the highest sum in 2018?\n",
    "\n",
    "Hint-  Select columns ‘Y2018’ and ‘Element’, Perform a groupby operation on ‘Element’ on the selected dataframe and answer the  question."
   ]
  },
  {
   "cell_type": "code",
   "execution_count": 71,
   "id": "a72f53cb",
   "metadata": {},
   "outputs": [
    {
     "data": {
      "text/plain": [
       "Element\n",
       "Domestic supply quantity                  5256\n",
       "Fat supply quantity (g/capita/day)        4987\n",
       "Protein supply quantity (g/capita/day)    4986\n",
       "Food supply (kcal/capita/day)             4969\n",
       "Import Quantity                           4945\n",
       "Food                                      4913\n",
       "Food supply quantity (kg/capita/yr)       4877\n",
       "Residuals                                 4616\n",
       "Stock Variation                           4217\n",
       "Production                                3846\n",
       "Export Quantity                           3646\n",
       "Losses                                    2008\n",
       "Processing                                2003\n",
       "Other uses (non-food)                     1655\n",
       "Feed                                      1225\n",
       "Seed                                       758\n",
       "Tourist consumption                        555\n",
       "Total Population - Both sexes               45\n",
       "Name: Y2018, dtype: int64"
      ]
     },
     "execution_count": 71,
     "metadata": {},
     "output_type": "execute_result"
    }
   ],
   "source": [
    "df.groupby('Element')['Y2018'].count().sort_values(ascending=False)"
   ]
  },
  {
   "cell_type": "markdown",
   "id": "1d16ad50",
   "metadata": {},
   "source": [
    "#### Question 18\n",
    "Which of these elements had the 3rd lowest sum in 2018?\n",
    "\n",
    "Hint-  Select columns ‘Y2018’ and ‘Element’, Perform a groupby operation on ‘Element’ on the selected dataframe and answer the  question."
   ]
  },
  {
   "cell_type": "code",
   "execution_count": 73,
   "id": "80cd4925",
   "metadata": {},
   "outputs": [
    {
     "data": {
      "text/plain": [
       "Element\n",
       "Total Population - Both sexes               45\n",
       "Tourist consumption                        555\n",
       "Seed                                       758\n",
       "Feed                                      1225\n",
       "Other uses (non-food)                     1655\n",
       "Processing                                2003\n",
       "Losses                                    2008\n",
       "Export Quantity                           3646\n",
       "Production                                3846\n",
       "Stock Variation                           4217\n",
       "Residuals                                 4616\n",
       "Food supply quantity (kg/capita/yr)       4877\n",
       "Food                                      4913\n",
       "Import Quantity                           4945\n",
       "Food supply (kcal/capita/day)             4969\n",
       "Protein supply quantity (g/capita/day)    4986\n",
       "Fat supply quantity (g/capita/day)        4987\n",
       "Domestic supply quantity                  5256\n",
       "Name: Y2018, dtype: int64"
      ]
     },
     "execution_count": 73,
     "metadata": {},
     "output_type": "execute_result"
    }
   ],
   "source": [
    "df.groupby('Element')['Y2018'].count().sort_values()"
   ]
  },
  {
   "cell_type": "markdown",
   "id": "32242790",
   "metadata": {},
   "source": [
    "#### Question 19\n",
    "What is the total Import Quantity in Algeria in 2018?"
   ]
  },
  {
   "cell_type": "code",
   "execution_count": 92,
   "id": "942204c7",
   "metadata": {},
   "outputs": [
    {
     "data": {
      "text/html": [
       "<div>\n",
       "<style scoped>\n",
       "    .dataframe tbody tr th:only-of-type {\n",
       "        vertical-align: middle;\n",
       "    }\n",
       "\n",
       "    .dataframe tbody tr th {\n",
       "        vertical-align: top;\n",
       "    }\n",
       "\n",
       "    .dataframe thead th {\n",
       "        text-align: right;\n",
       "    }\n",
       "</style>\n",
       "<table border=\"1\" class=\"dataframe\">\n",
       "  <thead>\n",
       "    <tr style=\"text-align: right;\">\n",
       "      <th></th>\n",
       "      <th>Y2018</th>\n",
       "    </tr>\n",
       "    <tr>\n",
       "      <th>Element</th>\n",
       "      <th></th>\n",
       "    </tr>\n",
       "  </thead>\n",
       "  <tbody>\n",
       "    <tr>\n",
       "      <th>Import Quantity</th>\n",
       "      <td>36238.29</td>\n",
       "    </tr>\n",
       "  </tbody>\n",
       "</table>\n",
       "</div>"
      ],
      "text/plain": [
       "                    Y2018\n",
       "Element                  \n",
       "Import Quantity  36238.29"
      ]
     },
     "execution_count": 92,
     "metadata": {},
     "output_type": "execute_result"
    }
   ],
   "source": [
    "df[df['Area']=='Algeria'].groupby('Element')[['Element','Y2018']].sum().filter(like='Import Quantity', axis=0)"
   ]
  },
  {
   "cell_type": "markdown",
   "id": "b3c3cc6d",
   "metadata": {},
   "source": [
    "#### Question 20\n",
    "What is the total number of unique countries in the dataset?"
   ]
  },
  {
   "cell_type": "code",
   "execution_count": 80,
   "id": "10263b18",
   "metadata": {},
   "outputs": [
    {
     "data": {
      "text/plain": [
       "49"
      ]
     },
     "execution_count": 80,
     "metadata": {},
     "output_type": "execute_result"
    }
   ],
   "source": [
    "len(df['Area'].unique())"
   ]
  },
  {
   "cell_type": "code",
   "execution_count": null,
   "id": "f3e2cac5",
   "metadata": {},
   "outputs": [],
   "source": []
  }
 ],
 "metadata": {
  "kernelspec": {
   "display_name": "Python 3 (ipykernel)",
   "language": "python",
   "name": "python3"
  },
  "language_info": {
   "codemirror_mode": {
    "name": "ipython",
    "version": 3
   },
   "file_extension": ".py",
   "mimetype": "text/x-python",
   "name": "python",
   "nbconvert_exporter": "python",
   "pygments_lexer": "ipython3",
   "version": "3.9.13"
  }
 },
 "nbformat": 4,
 "nbformat_minor": 5
}
